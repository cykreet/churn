{
 "cells": [
  {
   "cell_type": "markdown",
   "id": "03446981",
   "metadata": {},
   "source": [
    "## Random Forest\n",
    "#### We start off with importing our libraries"
   ]
  },
  {
   "cell_type": "code",
   "execution_count": 57,
   "id": "fa4814bd",
   "metadata": {},
   "outputs": [],
   "source": [
    "import pandas as pandaforman                                                                                                  # this is for data manipulation\n",
    "import numpy as numpyforops                                                                                                   # this is for numerical operations\n",
    "import matplotlib.pyplot as mplforplotting                                                                                    # this is for plotting\n",
    "from sklearn.model_selection import train_test_split                                                                          # this is the splitting of our data as well as training and testing the splits\n",
    "from sklearn.ensemble import RandomForestClassifier                                                                           # this is the classifier we will be using\n",
    "from sklearn.metrics import classification_report, confusion_matrix, accuracy_score, confusion_matrix, ConfusionMatrixDisplay # These are important for the evaluation of our model"
   ]
  },
  {
   "cell_type": "code",
   "execution_count": 58,
   "id": "a4032a2d",
   "metadata": {},
   "outputs": [
    {
     "data": {
      "text/html": [
       "<div>\n",
       "<style scoped>\n",
       "    .dataframe tbody tr th:only-of-type {\n",
       "        vertical-align: middle;\n",
       "    }\n",
       "\n",
       "    .dataframe tbody tr th {\n",
       "        vertical-align: top;\n",
       "    }\n",
       "\n",
       "    .dataframe thead th {\n",
       "        text-align: right;\n",
       "    }\n",
       "</style>\n",
       "<table border=\"1\" class=\"dataframe\">\n",
       "  <thead>\n",
       "    <tr style=\"text-align: right;\">\n",
       "      <th></th>\n",
       "      <th>CreditScore</th>\n",
       "      <th>Gender</th>\n",
       "      <th>Age</th>\n",
       "      <th>Tenure</th>\n",
       "      <th>Balance</th>\n",
       "      <th>NumOfProducts</th>\n",
       "      <th>HasCrCard</th>\n",
       "      <th>IsActiveMember</th>\n",
       "      <th>EstimatedSalary</th>\n",
       "      <th>Exited</th>\n",
       "      <th>Geography_France</th>\n",
       "      <th>Geography_Germany</th>\n",
       "      <th>Geography_Spain</th>\n",
       "    </tr>\n",
       "  </thead>\n",
       "  <tbody>\n",
       "    <tr>\n",
       "      <th>0</th>\n",
       "      <td>619</td>\n",
       "      <td>0</td>\n",
       "      <td>42.0</td>\n",
       "      <td>2</td>\n",
       "      <td>0.00</td>\n",
       "      <td>1</td>\n",
       "      <td>1.0</td>\n",
       "      <td>1.0</td>\n",
       "      <td>101348.88</td>\n",
       "      <td>1</td>\n",
       "      <td>1</td>\n",
       "      <td>0</td>\n",
       "      <td>0</td>\n",
       "    </tr>\n",
       "    <tr>\n",
       "      <th>1</th>\n",
       "      <td>608</td>\n",
       "      <td>0</td>\n",
       "      <td>41.0</td>\n",
       "      <td>1</td>\n",
       "      <td>83807.86</td>\n",
       "      <td>1</td>\n",
       "      <td>0.0</td>\n",
       "      <td>1.0</td>\n",
       "      <td>112542.58</td>\n",
       "      <td>0</td>\n",
       "      <td>0</td>\n",
       "      <td>0</td>\n",
       "      <td>1</td>\n",
       "    </tr>\n",
       "    <tr>\n",
       "      <th>2</th>\n",
       "      <td>502</td>\n",
       "      <td>0</td>\n",
       "      <td>42.0</td>\n",
       "      <td>8</td>\n",
       "      <td>159660.80</td>\n",
       "      <td>3</td>\n",
       "      <td>1.0</td>\n",
       "      <td>0.0</td>\n",
       "      <td>113931.57</td>\n",
       "      <td>1</td>\n",
       "      <td>1</td>\n",
       "      <td>0</td>\n",
       "      <td>0</td>\n",
       "    </tr>\n",
       "    <tr>\n",
       "      <th>3</th>\n",
       "      <td>699</td>\n",
       "      <td>0</td>\n",
       "      <td>39.0</td>\n",
       "      <td>1</td>\n",
       "      <td>0.00</td>\n",
       "      <td>2</td>\n",
       "      <td>0.0</td>\n",
       "      <td>0.0</td>\n",
       "      <td>93826.63</td>\n",
       "      <td>0</td>\n",
       "      <td>1</td>\n",
       "      <td>0</td>\n",
       "      <td>0</td>\n",
       "    </tr>\n",
       "    <tr>\n",
       "      <th>4</th>\n",
       "      <td>645</td>\n",
       "      <td>1</td>\n",
       "      <td>44.0</td>\n",
       "      <td>8</td>\n",
       "      <td>113755.78</td>\n",
       "      <td>2</td>\n",
       "      <td>1.0</td>\n",
       "      <td>0.0</td>\n",
       "      <td>149756.71</td>\n",
       "      <td>1</td>\n",
       "      <td>0</td>\n",
       "      <td>0</td>\n",
       "      <td>1</td>\n",
       "    </tr>\n",
       "  </tbody>\n",
       "</table>\n",
       "</div>"
      ],
      "text/plain": [
       "   CreditScore  Gender   Age  Tenure    Balance  NumOfProducts  HasCrCard  \\\n",
       "0          619       0  42.0       2       0.00              1        1.0   \n",
       "1          608       0  41.0       1   83807.86              1        0.0   \n",
       "2          502       0  42.0       8  159660.80              3        1.0   \n",
       "3          699       0  39.0       1       0.00              2        0.0   \n",
       "4          645       1  44.0       8  113755.78              2        1.0   \n",
       "\n",
       "   IsActiveMember  EstimatedSalary  Exited  Geography_France  \\\n",
       "0             1.0        101348.88       1                 1   \n",
       "1             1.0        112542.58       0                 0   \n",
       "2             0.0        113931.57       1                 1   \n",
       "3             0.0         93826.63       0                 1   \n",
       "4             0.0        149756.71       1                 0   \n",
       "\n",
       "   Geography_Germany  Geography_Spain  \n",
       "0                  0                0  \n",
       "1                  0                1  \n",
       "2                  0                0  \n",
       "3                  0                0  \n",
       "4                  0                1  "
      ]
     },
     "execution_count": 58,
     "metadata": {},
     "output_type": "execute_result"
    }
   ],
   "source": [
    "df = pandaforman.read_csv(r\"D:\\Downloads\\Cleaned_Churn_modelling.csv\")\n",
    "df.head()      #allows us a preview into our dataset "
   ]
  },
  {
   "cell_type": "markdown",
   "id": "1e4d7ffc",
   "metadata": {},
   "source": [
    "#### Feature selection"
   ]
  },
  {
   "cell_type": "code",
   "execution_count": 59,
   "id": "8fc1e026",
   "metadata": {},
   "outputs": [],
   "source": [
    "X = df.drop(columns='Exited') #as this is our target variable, we will isolate it from the other variables\n",
    "y = df['Exited']              #y will consist solely of our target variable"
   ]
  },
  {
   "cell_type": "markdown",
   "id": "bfa09f9a",
   "metadata": {},
   "source": [
    "#### Training and testing our two sets of data"
   ]
  },
  {
   "cell_type": "code",
   "execution_count": 60,
   "id": "c9d1b785",
   "metadata": {},
   "outputs": [],
   "source": [
    "X_train, X_test, y_train, y_test = train_test_split(X, y, test_size=0.2, random_state=42)\n",
    "#this singular line of code simultaneously trains and tests both sets of data.\n",
    "#the test size is set to a fifth (1/5, 0.2) of our total set to allow more in-depth training\n",
    "#the random state has been set to 42 to maximise the randomeness in each node so our model learns, and does not remember"
   ]
  },
  {
   "cell_type": "markdown",
   "id": "39206dc7",
   "metadata": {},
   "source": [
    "#### Implementing our model"
   ]
  },
  {
   "cell_type": "code",
   "execution_count": 61,
   "id": "cc512eb2",
   "metadata": {},
   "outputs": [
    {
     "name": "stdout",
     "output_type": "stream",
     "text": [
      "Model accuracy score with 10 decision-trees : 0.8535\n"
     ]
    }
   ],
   "source": [
    "rf = RandomForestClassifier(n_estimators=10, random_state=42)\n",
    "rf.fit(X_train, y_train)\n",
    "y_pred = rf.predict(X_test)#this is where we set a prediction of the outcome\n",
    "\n",
    "#this is where we chech the accuracy score \n",
    "#the default number of decision trees in the random forest classifier is 10 hence the following statement\n",
    "\n",
    "print('Model accuracy score with 10 decision-trees : {0:0.4f}'. format(accuracy_score(y_test, y_pred)))"
   ]
  },
  {
   "cell_type": "markdown",
   "id": "dc8731cf",
   "metadata": {},
   "source": [
    "##### Our model has great accuracy but we will now attempt to push it to its limit."
   ]
  },
  {
   "cell_type": "code",
   "execution_count": 62,
   "id": "1ed397c9",
   "metadata": {},
   "outputs": [
    {
     "name": "stdout",
     "output_type": "stream",
     "text": [
      "Model accuracy score with 100 decision-trees : 0.8655\n"
     ]
    }
   ],
   "source": [
    "rf = RandomForestClassifier(n_estimators=100, random_state=42)\n",
    "rf.fit(X_train, y_train)\n",
    "y_pred = rf.predict(X_test)#this is where we set a prediction of the outcome\n",
    "\n",
    "#this is where we chech the accuracy score \n",
    "#the default number of decision trees in the random forest classifier is 10 hence the following statement\n",
    "\n",
    "print('Model accuracy score with 100 decision-trees : {0:0.4f}'. format(accuracy_score(y_test, y_pred)))"
   ]
  },
  {
   "cell_type": "markdown",
   "id": "09872d58",
   "metadata": {},
   "source": [
    "##### As expected, increasing the number of decision trees increased our accuracy. Let's attempt this once more."
   ]
  },
  {
   "cell_type": "code",
   "execution_count": 63,
   "id": "76400c29",
   "metadata": {},
   "outputs": [
    {
     "name": "stdout",
     "output_type": "stream",
     "text": [
      "Model accuracy score with 250 decision-trees : 0.8655\n"
     ]
    }
   ],
   "source": [
    "rf = RandomForestClassifier(n_estimators=250, random_state=42)\n",
    "rf.fit(X_train, y_train)\n",
    "y_pred = rf.predict(X_test)#this is where we set a prediction of the outcome\n",
    "\n",
    "#this is where we chech the accuracy score \n",
    "#the default number of decision trees in the random forest classifier is 10 hence the following statement\n",
    "\n",
    "print('Model accuracy score with 250 decision-trees : {0:0.4f}'. format(accuracy_score(y_test, y_pred)))"
   ]
  },
  {
   "cell_type": "markdown",
   "id": "e0e567a7",
   "metadata": {},
   "source": [
    "##### Increasing the number of trees beyond 100 does theoretically increase accuracy but as shown in the scores, the difference becomes marginal. For the purpose of efficiency, we will set our model to 100 trees."
   ]
  },
  {
   "cell_type": "markdown",
   "id": "f9f7d1f5",
   "metadata": {},
   "source": [
    "### Evaluation of our model\n",
    "##### We have chosen to make use of a confusion matrix and a classification report for the purpose of evaluating our model."
   ]
  },
  {
   "cell_type": "code",
   "execution_count": 64,
   "id": "704a05f2",
   "metadata": {},
   "outputs": [
    {
     "data": {
      "image/png": "[encoded data removed]",
      "text/plain": [
       "<Figure size 640x480 with 2 Axes>"
      ]
     },
     "metadata": {},
     "output_type": "display_data"
    },
    {
     "name": "stdout",
     "output_type": "stream",
     "text": [
      "              precision    recall  f1-score   support\n",
      "\n",
      "           0       0.88      0.96      0.92      1627\n",
      "           1       0.72      0.45      0.56       373\n",
      "\n",
      "    accuracy                           0.87      2000\n",
      "   macro avg       0.80      0.71      0.74      2000\n",
      "weighted avg       0.85      0.87      0.85      2000\n",
      "\n",
      "Accuracy of the overall model: 0.87\n"
     ]
    }
   ],
   "source": [
    "y_pred = rf.predict(X_test)\n",
    "cm = confusion_matrix(y_test, y_pred)                                                    #this is where we introduce our confusion matrix with calculations to contextualise each outcome in line with its counterpart with 1 being the negatives and 0 being the positives\n",
    "cm_normalized = cm.astype(\"float\") / cm.sum(axis=1)[:, numpyforops.newaxis]\n",
    "disp = ConfusionMatrixDisplay(confusion_matrix=cm_normalized, display_labels=[0, 1,])\n",
    "disp.plot(cmap=mplforplotting.cm.Blues)\n",
    "mplforplotting.title(\"Confusion Matrix: Actual vs Predicted\")\n",
    "mplforplotting.xlabel(\"Predicted\")\n",
    "mplforplotting.ylabel(\"Actual\")\n",
    "mplforplotting.show()\n",
    "print(classification_report(y_test, y_pred))                                              #this is where we introduce our classiicaton report\n",
    "print(f\"Accuracy of the overall model: {accuracy_score(y_test, y_pred):.2f}\")"
   ]
  },
  {
   "cell_type": "markdown",
   "id": "b716fc9d",
   "metadata": {},
   "source": [
    "#### Feature importance\n",
    "##### This will help use clearly identify the most important features in our dataset with regard to our target variable."
   ]
  },
  {
   "cell_type": "code",
   "execution_count": 65,
   "id": "d0230394",
   "metadata": {},
   "outputs": [
    {
     "data": {
      "image/png": "[encoded data removed]",
      "text/plain": [
       "<Figure size 1000x500 with 1 Axes>"
      ]
     },
     "metadata": {},
     "output_type": "display_data"
    }
   ],
   "source": [
    "importances = pandaforman.Series(rf.feature_importances_, index=X.columns)\n",
    "importances.sort_values(ascending=False).plot(kind='bar', figsize=(10,5))\n",
    "mplforplotting.title('Feature Importance from Random Forest')\n",
    "mplforplotting.show()"
   ]
  },
  {
   "cell_type": "markdown",
   "id": "2ee7a7b7",
   "metadata": {},
   "source": [
    "##### This shows us that the most important variable in predicting whether or not a customer wll churn is their age."
   ]
  }
 ],
 "metadata": {
  "kernelspec": {
   "display_name": "Python 3",
   "language": "python",
   "name": "python3"
  },
  "language_info": {
   "codemirror_mode": {
    "name": "ipython",
    "version": 3
   },
   "file_extension": ".py",
   "mimetype": "text/x-python",
   "name": "python",
   "nbconvert_exporter": "python",
   "pygments_lexer": "ipython3",
   "version": "3.13.3"
  }
 },
 "nbformat": 4,
 "nbformat_minor": 5
}
